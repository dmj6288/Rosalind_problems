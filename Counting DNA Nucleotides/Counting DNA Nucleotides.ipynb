{
 "cells": [
  {
   "cell_type": "code",
   "execution_count": 9,
   "id": "9df42e1a",
   "metadata": {},
   "outputs": [],
   "source": [
    "import numpy as np"
   ]
  },
  {
   "cell_type": "code",
   "execution_count": 1,
   "id": "0f78f51f",
   "metadata": {},
   "outputs": [],
   "source": [
    "sample_string = \"AGCTTTTCATTCTGACTGCAACGGGCAATATGTCTCTGTGTGGATTAAAAAAAGAGTGTCTGATAGCAGC\""
   ]
  },
  {
   "cell_type": "code",
   "execution_count": 14,
   "id": "f955553a",
   "metadata": {},
   "outputs": [],
   "source": [
    "counter_array = np.array(([0], [0], [0], [0]))\n",
    "\n",
    "for base in sample_string:\n",
    "    if base == 'A':\n",
    "        counter_array[0]+=1\n",
    "    elif base == 'C':\n",
    "        counter_array[1]+=1\n",
    "    elif base == 'G':\n",
    "        counter_array[2]+=1\n",
    "    else:\n",
    "        counter_array[3]+=1"
   ]
  },
  {
   "cell_type": "code",
   "execution_count": 22,
   "id": "d87deb2f",
   "metadata": {},
   "outputs": [
    {
     "name": "stdout",
     "output_type": "stream",
     "text": [
      "20 12 17 21 "
     ]
    }
   ],
   "source": [
    "for count in counter_array:\n",
    "    print(' '.join(count.astype(str)), end = \" \")"
   ]
  },
  {
   "cell_type": "code",
   "execution_count": 13,
   "id": "6fa2d7f6",
   "metadata": {},
   "outputs": [],
   "source": [
    "file = open(\"rosalind_dna.txt\", \"r\")"
   ]
  },
  {
   "cell_type": "code",
   "execution_count": 14,
   "id": "38320e6e",
   "metadata": {},
   "outputs": [],
   "source": [
    "sample_string = file.read()\n",
    "sample_string = sample_string[:-1]"
   ]
  },
  {
   "cell_type": "code",
   "execution_count": 16,
   "id": "ad5b9922",
   "metadata": {},
   "outputs": [],
   "source": [
    "counter_array = np.array(([0], [0], [0], [0]))\n",
    "\n",
    "for base in sample_string:\n",
    "    if base == 'A':\n",
    "        counter_array[0]+=1\n",
    "    elif base == 'C':\n",
    "        counter_array[1]+=1\n",
    "    elif base == 'G':\n",
    "        counter_array[2]+=1\n",
    "    else:\n",
    "        counter_array[3]+=1"
   ]
  },
  {
   "cell_type": "code",
   "execution_count": 17,
   "id": "4829dcd3",
   "metadata": {},
   "outputs": [
    {
     "name": "stdout",
     "output_type": "stream",
     "text": [
      "258 252 231 256 "
     ]
    }
   ],
   "source": [
    "for count in counter_array:\n",
    "    print(' '.join(count.astype(str)), end = \" \")"
   ]
  },
  {
   "cell_type": "code",
   "execution_count": null,
   "id": "22e6b5da",
   "metadata": {},
   "outputs": [],
   "source": []
  }
 ],
 "metadata": {
  "kernelspec": {
   "display_name": "Python 3 (ipykernel)",
   "language": "python",
   "name": "python3"
  },
  "language_info": {
   "codemirror_mode": {
    "name": "ipython",
    "version": 3
   },
   "file_extension": ".py",
   "mimetype": "text/x-python",
   "name": "python",
   "nbconvert_exporter": "python",
   "pygments_lexer": "ipython3",
   "version": "3.9.12"
  }
 },
 "nbformat": 4,
 "nbformat_minor": 5
}
